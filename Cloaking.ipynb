{
 "cells": [
  {
   "cell_type": "code",
   "execution_count": 11,
   "metadata": {},
   "outputs": [],
   "source": [
    "import numpy as np\n",
    "import cv2 #video capturing\n",
    "import time "
   ]
  },
  {
   "cell_type": "code",
   "execution_count": 12,
   "metadata": {},
   "outputs": [],
   "source": [
    "cap = cv2.VideoCapture(0)#importing any videos here with the address or just webcam number.here im putting 1st web cam means 0\n",
    "\n",
    "time.sleep(2) # 2sec time to adjust the camera according to the env\n",
    "background = 0\n",
    "\n",
    "#capturing the background\n",
    "for i in range(30): #giving 30 iteration to capture the background for the best value\n",
    "    ret, background = cap.read()\n",
    "    \n",
    "#capturing the image to perform opertation on it    \n",
    "while(cap.isOpened()):# when cap is open while will be executing\n",
    "    ret, img = cap.read()\n",
    "    \n",
    "    if not ret:\n",
    "        break\n",
    "        \n",
    "    hsv = cv2.cvtColor(img, cv2.COLOR_BGR2HSV) #HV HUE SATURAION VALUE\n",
    "    #change the color by changing the hue value only 0 10 170 180\n",
    "    #HSV Values\n",
    "    lower_red = np.array([0,120,70]) \n",
    "    upper_red = np.array([10,255,255])# 120 to255 darkness of the color saturation brightness is 70 to  \n",
    "    \n",
    "    mask1 = cv2.inRange(hsv, lower_red, upper_red) #Separating the cloak part\n",
    "    \n",
    "    lower_red = np.array([170,120,70]) \n",
    "    upper_red= np.array([180,255,255]) \n",
    "    \n",
    "    mask2 = cv2.inRange(hsv, lower_red, upper_red)\n",
    "    \n",
    "    mask1 = mask1 + mask2 #OR\n",
    "    mask1=cv2.morphologyEx(mask1, cv2.MORPH_OPEN ,np.ones((3,3) , np.uint8) , iterations=2) #noise removal to make the image smoothing\n",
    "        \n",
    "    mask1=cv2.morphologyEx(mask1, cv2.MORPH_DILATE ,np.ones((3,3) , np.uint8) , iterations=1)\n",
    "    \n",
    "    mask2 = cv2.bitwise_not(mask1) #except the cloak\n",
    "    \n",
    "    res1 = cv2.bitwise_and(background, background, mask=mask1) # used for segmentation for the color\n",
    "    res2 = cv2.bitwise_and(img, img, mask=mask2) #used to substitute the clock part\n",
    "    \n",
    "    final_output = cv2.addWeighted(res1 , 1, res2 , 1, 0)\n",
    "    \n",
    "    cv2.imshow('Cloaking' , final_output)\n",
    "    k=cv2.waitKey(10)\n",
    "    if k==27:\n",
    "        break\n",
    "        \n",
    "cap.release()\n",
    "cv2.destroyAllWindows()\n",
    "    "
   ]
  },
  {
   "cell_type": "code",
   "execution_count": null,
   "metadata": {},
   "outputs": [],
   "source": []
  }
 ],
 "metadata": {
  "kernelspec": {
   "display_name": "Python 3",
   "language": "python",
   "name": "python3"
  },
  "language_info": {
   "codemirror_mode": {
    "name": "ipython",
    "version": 3
   },
   "file_extension": ".py",
   "mimetype": "text/x-python",
   "name": "python",
   "nbconvert_exporter": "python",
   "pygments_lexer": "ipython3",
   "version": "3.7.6"
  }
 },
 "nbformat": 4,
 "nbformat_minor": 4
}
